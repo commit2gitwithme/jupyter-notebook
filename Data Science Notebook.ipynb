{
    "cells": [
        {
            "cell_type": "code",
            "execution_count": 4,
            "metadata": {
                "id": "18c02db1-1816-430c-a626-8f472ce45516"
            },
            "outputs": [
                {
                    "data": {
                        "text/html": "<div>\n<style scoped>\n    .dataframe tbody tr th:only-of-type {\n        vertical-align: middle;\n    }\n\n    .dataframe tbody tr th {\n        vertical-align: top;\n    }\n\n    .dataframe thead th {\n        text-align: right;\n    }\n</style>\n<table border=\"1\" class=\"dataframe\">\n  <thead>\n    <tr style=\"text-align: right;\">\n      <th></th>\n      <th>Incident_ID</th>\n      <th>Date</th>\n      <th>Location</th>\n      <th>Area_Burned (Acres)</th>\n      <th>Homes_Destroyed</th>\n      <th>Businesses_Destroyed</th>\n      <th>Vehicles_Damaged</th>\n      <th>Injuries</th>\n      <th>Fatalities</th>\n      <th>Estimated_Financial_Loss (Million $)</th>\n      <th>Cause</th>\n    </tr>\n  </thead>\n  <tbody>\n    <tr>\n      <th>0</th>\n      <td>INC1000</td>\n      <td>2020-11-22</td>\n      <td>Sonoma County</td>\n      <td>14048</td>\n      <td>763</td>\n      <td>474</td>\n      <td>235</td>\n      <td>70</td>\n      <td>19</td>\n      <td>2270.57</td>\n      <td>Lightning</td>\n    </tr>\n    <tr>\n      <th>1</th>\n      <td>INC1001</td>\n      <td>2021-09-23</td>\n      <td>Sonoma County</td>\n      <td>33667</td>\n      <td>1633</td>\n      <td>4</td>\n      <td>263</td>\n      <td>100</td>\n      <td>2</td>\n      <td>1381.14</td>\n      <td>Lightning</td>\n    </tr>\n    <tr>\n      <th>2</th>\n      <td>INC1002</td>\n      <td>2022-02-10</td>\n      <td>Shasta County</td>\n      <td>26394</td>\n      <td>915</td>\n      <td>291</td>\n      <td>31</td>\n      <td>50</td>\n      <td>6</td>\n      <td>2421.96</td>\n      <td>Human Activity</td>\n    </tr>\n    <tr>\n      <th>3</th>\n      <td>INC1003</td>\n      <td>2021-05-17</td>\n      <td>Sonoma County</td>\n      <td>20004</td>\n      <td>1220</td>\n      <td>128</td>\n      <td>34</td>\n      <td>28</td>\n      <td>0</td>\n      <td>3964.16</td>\n      <td>Unknown</td>\n    </tr>\n    <tr>\n      <th>4</th>\n      <td>INC1004</td>\n      <td>2021-09-22</td>\n      <td>Sonoma County</td>\n      <td>40320</td>\n      <td>794</td>\n      <td>469</td>\n      <td>147</td>\n      <td>0</td>\n      <td>15</td>\n      <td>1800.09</td>\n      <td>Unknown</td>\n    </tr>\n    <tr>\n      <th>5</th>\n      <td>INC1005</td>\n      <td>2023-05-17</td>\n      <td>Butte County</td>\n      <td>48348</td>\n      <td>60</td>\n      <td>205</td>\n      <td>21</td>\n      <td>58</td>\n      <td>2</td>\n      <td>4458.29</td>\n      <td>Human Activity</td>\n    </tr>\n    <tr>\n      <th>6</th>\n      <td>INC1006</td>\n      <td>2018-04-29</td>\n      <td>San Diego County</td>\n      <td>16038</td>\n      <td>1404</td>\n      <td>137</td>\n      <td>64</td>\n      <td>13</td>\n      <td>11</td>\n      <td>713.80</td>\n      <td>Human Activity</td>\n    </tr>\n    <tr>\n      <th>7</th>\n      <td>INC1007</td>\n      <td>2015-08-23</td>\n      <td>Napa Valley</td>\n      <td>24519</td>\n      <td>121</td>\n      <td>28</td>\n      <td>125</td>\n      <td>0</td>\n      <td>5</td>\n      <td>2001.33</td>\n      <td>Lightning</td>\n    </tr>\n    <tr>\n      <th>8</th>\n      <td>INC1008</td>\n      <td>2023-12-08</td>\n      <td>Sonoma County</td>\n      <td>20418</td>\n      <td>299</td>\n      <td>264</td>\n      <td>208</td>\n      <td>33</td>\n      <td>4</td>\n      <td>1012.23</td>\n      <td>Unknown</td>\n    </tr>\n    <tr>\n      <th>9</th>\n      <td>INC1009</td>\n      <td>2018-12-01</td>\n      <td>Butte County</td>\n      <td>21351</td>\n      <td>275</td>\n      <td>196</td>\n      <td>153</td>\n      <td>41</td>\n      <td>2</td>\n      <td>2611.90</td>\n      <td>Lightning</td>\n    </tr>\n  </tbody>\n</table>\n</div>",
                        "text/plain": "  Incident_ID        Date          Location  Area_Burned (Acres)  \\\n0     INC1000  2020-11-22     Sonoma County                14048   \n1     INC1001  2021-09-23     Sonoma County                33667   \n2     INC1002  2022-02-10     Shasta County                26394   \n3     INC1003  2021-05-17     Sonoma County                20004   \n4     INC1004  2021-09-22     Sonoma County                40320   \n5     INC1005  2023-05-17      Butte County                48348   \n6     INC1006  2018-04-29  San Diego County                16038   \n7     INC1007  2015-08-23       Napa Valley                24519   \n8     INC1008  2023-12-08     Sonoma County                20418   \n9     INC1009  2018-12-01      Butte County                21351   \n\n   Homes_Destroyed  Businesses_Destroyed  Vehicles_Damaged  Injuries  \\\n0              763                   474               235        70   \n1             1633                     4               263       100   \n2              915                   291                31        50   \n3             1220                   128                34        28   \n4              794                   469               147         0   \n5               60                   205                21        58   \n6             1404                   137                64        13   \n7              121                    28               125         0   \n8              299                   264               208        33   \n9              275                   196               153        41   \n\n   Fatalities  Estimated_Financial_Loss (Million $)           Cause  \n0          19                               2270.57       Lightning  \n1           2                               1381.14       Lightning  \n2           6                               2421.96  Human Activity  \n3           0                               3964.16         Unknown  \n4          15                               1800.09         Unknown  \n5           2                               4458.29  Human Activity  \n6          11                                713.80  Human Activity  \n7           5                               2001.33       Lightning  \n8           4                               1012.23         Unknown  \n9           2                               2611.90       Lightning  "
                    },
                    "execution_count": 4,
                    "metadata": {},
                    "output_type": "execute_result"
                }
            ],
            "source": "# The code was removed by Watson Studio for sharing."
        },
        {
            "cell_type": "code",
            "execution_count": null,
            "metadata": {
                "id": "1b0ecbcf-b9c7-4c39-9f49-81a6d5dcf1e7"
            },
            "outputs": [],
            "source": ""
        }
    ],
    "metadata": {
        "kernelspec": {
            "display_name": "R 4.3 with Spark",
            "language": "R",
            "name": "r43"
        },
        "language_info": {
            "codemirror_mode": "r",
            "file_extension": ".r",
            "mimetype": "text/x-r-source",
            "name": "R",
            "pygments_lexer": "r",
            "version": "4.3.1"
        }
    },
    "nbformat": 4,
    "nbformat_minor": 4
}